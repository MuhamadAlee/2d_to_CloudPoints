{
 "cells": [
  {
   "cell_type": "code",
   "execution_count": null,
   "id": "c81631f8",
   "metadata": {},
   "outputs": [],
   "source": [
    "import open3d as o3d\n",
    "import sys\n"
   ]
  },
  {
   "cell_type": "code",
   "execution_count": null,
   "id": "a7db0b65",
   "metadata": {},
   "outputs": [],
   "source": [
    "color_raw = o3d.io.read_image(\"imgs/rgb/1.jpg\")\n",
    "depth_raw = o3d.io.read_image(\"imgs/depth/1.png\")"
   ]
  },
  {
   "cell_type": "code",
   "execution_count": null,
   "id": "b45592ef",
   "metadata": {},
   "outputs": [],
   "source": [
    "\n",
    "rgbd_image = o3d.geometry.RGBDImage.create_from_color_and_depth(color_raw, depth_raw)\n",
    "\n",
    "pcd = o3d.geometry.PointCloud.create_from_rgbd_image(rgbd_image,o3d.camera.PinholeCameraIntrinsic(o3d.camera.PinholeCameraIntrinsicParameters.PrimeSenseDefault))\n",
    "# Flip it, otherwise the pointcloud will be upside down\n",
    "pcd.transform([[1, 0, 0, 0], [0, -1, 0, 0], [0, 0, -1, 0], [0, 0, 0, 1]])\n"
   ]
  },
  {
   "cell_type": "code",
   "execution_count": null,
   "id": "129edb86",
   "metadata": {},
   "outputs": [],
   "source": [
    "o3d.visualization.draw_geometries([pcd])"
   ]
  }
 ],
 "metadata": {
  "kernelspec": {
   "display_name": "Python 3",
   "language": "python",
   "name": "python3"
  },
  "language_info": {
   "codemirror_mode": {
    "name": "ipython",
    "version": 3
   },
   "file_extension": ".py",
   "mimetype": "text/x-python",
   "name": "python",
   "nbconvert_exporter": "python",
   "pygments_lexer": "ipython3",
   "version": "3.6.8"
  }
 },
 "nbformat": 4,
 "nbformat_minor": 5
}
